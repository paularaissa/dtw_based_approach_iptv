{
 "cells": [
  {
   "cell_type": "code",
   "execution_count": 2,
   "metadata": {
    "collapsed": true,
    "pycharm": {
     "name": "#%%\n"
    }
   },
   "outputs": [],
   "source": [
    "import pandas as pd\n",
    "import sys\n",
    "import warnings\n",
    "\n",
    "warnings.filterwarnings(\"ignore\")\n",
    "pd.options.mode.chained_assignment = None"
   ]
  },
  {
   "cell_type": "markdown",
   "metadata": {
    "pycharm": {
     "name": "#%% md\n"
    }
   },
   "source": [
    "* File reading with video mapping"
   ]
  },
  {
   "cell_type": "code",
   "execution_count": 3,
   "metadata": {
    "pycharm": {
     "name": "#%%\n"
    }
   },
   "outputs": [
    {
     "data": {
      "text/plain": "         date      time                                           filename  \\\n0  2022-02-02  11-31-48  tmplist5_pt_sportv1hevc_without_vpn_2u9q3bq1f9...   \n1  2022-02-02  11-41-38  tmplist5_pt_sportv1hevc_without_vpn_3x4712uxky...   \n2  2022-02-02  14-27-14  tmplist5_pt_sportv1hevc_without_vpn_5fu61xjunp...   \n3  2022-02-02  13-31-39  tmplist5_pt_sportv1hevc_without_vpn_5qjsk2qnp8...   \n4  2022-02-02  14-21-32  tmplist5_pt_sportv1hevc_without_vpn_5vmdwnyjsn...   \n\n                  foldername   channel location codec  flag  group_time  \n0  tmplist5_sporttv1_pt_hevc  sporttv1       pt  hevc     0           0  \n1  tmplist5_sporttv1_pt_hevc  sporttv1       pt  hevc     1           0  \n2  tmplist5_sporttv1_pt_hevc  sporttv1       pt  hevc     2           0  \n3  tmplist5_sporttv1_pt_hevc  sporttv1       pt  hevc     2           0  \n4  tmplist5_sporttv1_pt_hevc  sporttv1       pt  hevc     2           0  ",
      "text/html": "<div>\n<style scoped>\n    .dataframe tbody tr th:only-of-type {\n        vertical-align: middle;\n    }\n\n    .dataframe tbody tr th {\n        vertical-align: top;\n    }\n\n    .dataframe thead th {\n        text-align: right;\n    }\n</style>\n<table border=\"1\" class=\"dataframe\">\n  <thead>\n    <tr style=\"text-align: right;\">\n      <th></th>\n      <th>date</th>\n      <th>time</th>\n      <th>filename</th>\n      <th>foldername</th>\n      <th>channel</th>\n      <th>location</th>\n      <th>codec</th>\n      <th>flag</th>\n      <th>group_time</th>\n    </tr>\n  </thead>\n  <tbody>\n    <tr>\n      <th>0</th>\n      <td>2022-02-02</td>\n      <td>11-31-48</td>\n      <td>tmplist5_pt_sportv1hevc_without_vpn_2u9q3bq1f9...</td>\n      <td>tmplist5_sporttv1_pt_hevc</td>\n      <td>sporttv1</td>\n      <td>pt</td>\n      <td>hevc</td>\n      <td>0</td>\n      <td>0</td>\n    </tr>\n    <tr>\n      <th>1</th>\n      <td>2022-02-02</td>\n      <td>11-41-38</td>\n      <td>tmplist5_pt_sportv1hevc_without_vpn_3x4712uxky...</td>\n      <td>tmplist5_sporttv1_pt_hevc</td>\n      <td>sporttv1</td>\n      <td>pt</td>\n      <td>hevc</td>\n      <td>1</td>\n      <td>0</td>\n    </tr>\n    <tr>\n      <th>2</th>\n      <td>2022-02-02</td>\n      <td>14-27-14</td>\n      <td>tmplist5_pt_sportv1hevc_without_vpn_5fu61xjunp...</td>\n      <td>tmplist5_sporttv1_pt_hevc</td>\n      <td>sporttv1</td>\n      <td>pt</td>\n      <td>hevc</td>\n      <td>2</td>\n      <td>0</td>\n    </tr>\n    <tr>\n      <th>3</th>\n      <td>2022-02-02</td>\n      <td>13-31-39</td>\n      <td>tmplist5_pt_sportv1hevc_without_vpn_5qjsk2qnp8...</td>\n      <td>tmplist5_sporttv1_pt_hevc</td>\n      <td>sporttv1</td>\n      <td>pt</td>\n      <td>hevc</td>\n      <td>2</td>\n      <td>0</td>\n    </tr>\n    <tr>\n      <th>4</th>\n      <td>2022-02-02</td>\n      <td>14-21-32</td>\n      <td>tmplist5_pt_sportv1hevc_without_vpn_5vmdwnyjsn...</td>\n      <td>tmplist5_sporttv1_pt_hevc</td>\n      <td>sporttv1</td>\n      <td>pt</td>\n      <td>hevc</td>\n      <td>2</td>\n      <td>0</td>\n    </tr>\n  </tbody>\n</table>\n</div>"
     },
     "execution_count": 3,
     "metadata": {},
     "output_type": "execute_result"
    }
   ],
   "source": [
    "df_map_videos_file = pd.read_csv(\"/IPTV_Datasets_28Jan/\" + \"match_files_sorted_mapped\" + \".csv\")\n",
    "df_map_videos_file.head(5)"
   ]
  },
  {
   "cell_type": "code",
   "execution_count": 4,
   "metadata": {
    "pycharm": {
     "name": "#%%\n"
    }
   },
   "outputs": [
    {
     "name": "stdout",
     "output_type": "stream",
     "text": [
      "136\n"
     ]
    },
    {
     "data": {
      "text/plain": "          date      time                                           filename  \\\n23  2022-02-02  11-31-48  tmplist5_pt_sportv1hevc_with_vpn_2u9q3bq1f9vgq...   \n24  2022-02-02  11-41-38  tmplist5_pt_sportv1hevc_with_vpn_3x4712uxkyfun...   \n25  2022-02-02  14-27-14  tmplist5_pt_sportv1hevc_with_vpn_5fu61xjunpkpj...   \n26  2022-02-02  13-31-39  tmplist5_pt_sportv1hevc_with_vpn_5qjsk2qnp81xy...   \n27  2022-02-02  14-21-32  tmplist5_pt_sportv1hevc_with_vpn_5vmdwnyjsn1ns...   \n\n                   foldername   channel location codec  flag  group_time  \n23  tmplist5_sporttv1_pt_hevc  sporttv1       pt  hevc     0           1  \n24  tmplist5_sporttv1_pt_hevc  sporttv1       pt  hevc     1           1  \n25  tmplist5_sporttv1_pt_hevc  sporttv1       pt  hevc     2           1  \n26  tmplist5_sporttv1_pt_hevc  sporttv1       pt  hevc     2           2  \n27  tmplist5_sporttv1_pt_hevc  sporttv1       pt  hevc     2           2  ",
      "text/html": "<div>\n<style scoped>\n    .dataframe tbody tr th:only-of-type {\n        vertical-align: middle;\n    }\n\n    .dataframe tbody tr th {\n        vertical-align: top;\n    }\n\n    .dataframe thead th {\n        text-align: right;\n    }\n</style>\n<table border=\"1\" class=\"dataframe\">\n  <thead>\n    <tr style=\"text-align: right;\">\n      <th></th>\n      <th>date</th>\n      <th>time</th>\n      <th>filename</th>\n      <th>foldername</th>\n      <th>channel</th>\n      <th>location</th>\n      <th>codec</th>\n      <th>flag</th>\n      <th>group_time</th>\n    </tr>\n  </thead>\n  <tbody>\n    <tr>\n      <th>23</th>\n      <td>2022-02-02</td>\n      <td>11-31-48</td>\n      <td>tmplist5_pt_sportv1hevc_with_vpn_2u9q3bq1f9vgq...</td>\n      <td>tmplist5_sporttv1_pt_hevc</td>\n      <td>sporttv1</td>\n      <td>pt</td>\n      <td>hevc</td>\n      <td>0</td>\n      <td>1</td>\n    </tr>\n    <tr>\n      <th>24</th>\n      <td>2022-02-02</td>\n      <td>11-41-38</td>\n      <td>tmplist5_pt_sportv1hevc_with_vpn_3x4712uxkyfun...</td>\n      <td>tmplist5_sporttv1_pt_hevc</td>\n      <td>sporttv1</td>\n      <td>pt</td>\n      <td>hevc</td>\n      <td>1</td>\n      <td>1</td>\n    </tr>\n    <tr>\n      <th>25</th>\n      <td>2022-02-02</td>\n      <td>14-27-14</td>\n      <td>tmplist5_pt_sportv1hevc_with_vpn_5fu61xjunpkpj...</td>\n      <td>tmplist5_sporttv1_pt_hevc</td>\n      <td>sporttv1</td>\n      <td>pt</td>\n      <td>hevc</td>\n      <td>2</td>\n      <td>1</td>\n    </tr>\n    <tr>\n      <th>26</th>\n      <td>2022-02-02</td>\n      <td>13-31-39</td>\n      <td>tmplist5_pt_sportv1hevc_with_vpn_5qjsk2qnp81xy...</td>\n      <td>tmplist5_sporttv1_pt_hevc</td>\n      <td>sporttv1</td>\n      <td>pt</td>\n      <td>hevc</td>\n      <td>2</td>\n      <td>2</td>\n    </tr>\n    <tr>\n      <th>27</th>\n      <td>2022-02-02</td>\n      <td>14-21-32</td>\n      <td>tmplist5_pt_sportv1hevc_with_vpn_5vmdwnyjsn1ns...</td>\n      <td>tmplist5_sporttv1_pt_hevc</td>\n      <td>sporttv1</td>\n      <td>pt</td>\n      <td>hevc</td>\n      <td>2</td>\n      <td>2</td>\n    </tr>\n  </tbody>\n</table>\n</div>"
     },
     "execution_count": 4,
     "metadata": {},
     "output_type": "execute_result"
    }
   ],
   "source": [
    "df_map_videos_file.reset_index(drop=True, inplace=True)\n",
    "\n",
    "# Remove rows without_vpn\n",
    "linhas_remover = []\n",
    "for idx, row in df_map_videos_file.iterrows():\n",
    "    file_name = row[\"filename\"].split(\".\")[0]  #remove .csv from filename\n",
    "    file_name_new = file_name.replace(':', '_')\n",
    "    if file_name_new.split(\"_\")[3] == \"without\":\n",
    "        linhas_remover.append(idx)\n",
    "df_map_videos_file_clean = df_map_videos_file.drop(linhas_remover)\n",
    "\n",
    "print(len(df_map_videos_file_clean))\n",
    "df_map_videos_file_clean.head(5)"
   ]
  },
  {
   "cell_type": "markdown",
   "source": [
    "* Create Histograms"
   ],
   "metadata": {
    "collapsed": false,
    "pycharm": {
     "name": "#%% md\n"
    }
   }
  },
  {
   "cell_type": "code",
   "execution_count": null,
   "outputs": [],
   "source": [
    "if 'histograms' in sys.modules:\n",
    "    del sys.modules[\"histograms\"]\n",
    "from create_histogramas_aux import histograms\n",
    "\n",
    "# call function histograms from create_histograms_aux.py\n",
    "histograms_list = histograms(df_map_videos_file_clean)"
   ],
   "metadata": {
    "collapsed": false,
    "pycharm": {
     "name": "#%%\n"
    }
   }
  },
  {
   "cell_type": "code",
   "execution_count": null,
   "metadata": {
    "pycharm": {
     "name": "#%%\n",
     "is_executing": true
    }
   },
   "outputs": [],
   "source": [
    "# concat the histograms data and save to .csv file\n",
    "all_histograms = pd.concat(histograms_list, ignore_index=True)\n",
    "all_histograms.to_csv(\"IPTV_Datasets_28Jan/\" + \"all_histograms\" + \".csv\", index=False, header=True)"
   ]
  },
  {
   "cell_type": "markdown",
   "source": [
    "* If you already have the .csv whith all histograms, start from here"
   ],
   "metadata": {
    "collapsed": false,
    "pycharm": {
     "name": "#%% md\n"
    }
   }
  },
  {
   "cell_type": "code",
   "execution_count": null,
   "outputs": [],
   "source": [
    "all_histograms = pd.read_csv(\"/IPTV_Datasets_28Jan/\" + \"all_histograms\" + \".csv\")\n",
    "all_histograms.head()"
   ],
   "metadata": {
    "collapsed": false,
    "pycharm": {
     "name": "#%%\n"
    }
   }
  },
  {
   "cell_type": "markdown",
   "source": [
    "* Create scenarios and compute DTW"
   ],
   "metadata": {
    "collapsed": false,
    "pycharm": {
     "name": "#%% md\n"
    }
   }
  },
  {
   "cell_type": "code",
   "execution_count": null,
   "outputs": [],
   "source": [
    "# Import DTW Module\n",
    "if 'dtw_aida' in sys.modules:\n",
    "    del sys.modules[\"dtw_aida\"]\n",
    "from dtw_aida import compute_histogram_dtw, create_histogram_list\n",
    "from datetime import datetime"
   ],
   "metadata": {
    "collapsed": false,
    "pycharm": {
     "name": "#%%\n"
    }
   }
  },
  {
   "cell_type": "code",
   "execution_count": null,
   "outputs": [],
   "source": [
    "# All channels, codec hevec, location pt\n",
    "df_rtp_hevc_pt = all_histograms.loc[(all_histograms['channel'] == 'rtp1') & (all_histograms['codec'] == 'hevc') & (all_histograms['location']=='pt')]\n",
    "df_sportv_hevec_pt = all_histograms.loc[(all_histograms['channel'] == 'sporttv1') & (all_histograms['codec'] == 'hevc') & (all_histograms['location']=='pt')]\n",
    "\n",
    "gk1 = df_rtp_hevc_pt.groupby(['10'])\n",
    "gk2 = df_sportv_hevec_pt.groupby(['10'])\n",
    "\n",
    "dataframes = [group for _, group in gk1]\n",
    "dataframes2 = [group for _, group in gk2]\n",
    "histograms_list = dataframes + dataframes2\n",
    "\n",
    "now = datetime.now()\n",
    "current_time = now.strftime(\"%H:%M:%S\")\n",
    "print(\"Current Time =\", current_time)\n",
    "\n",
    "df_ch_codec_loc = compute_histogram_dtw(histograms_list)\n",
    "df_dtw_k_cen1 = pd.DataFrame(df_ch_codec_loc, columns=['vpn1', 'vpn2', 'dtw', 'euclidean','path', 'cost_matrix', 'x', 'y', 'diagonal_dtw', 'diagonal_euclidean'])\n",
    "df_dtw_k_cen1.to_csv(\"/IPTV_Datasets_28Jan/\" + \"dtw_scenario1\" + \".csv\", index=False, header=True)\n",
    "df_dtw_k_cen1.head(5)\n",
    "\n",
    "now = datetime.now()\n",
    "current_time = now.strftime(\"%H:%M:%S\")\n",
    "print(\"Current Time =\", current_time)"
   ],
   "metadata": {
    "collapsed": false,
    "pycharm": {
     "name": "#%%\n",
     "is_executing": true
    }
   }
  },
  {
   "cell_type": "code",
   "execution_count": 41,
   "outputs": [
    {
     "name": "stdout",
     "output_type": "stream",
     "text": [
      "Current Time = 12:44:40\n",
      "Current Time = 13:37:59\n"
     ]
    }
   ],
   "source": [
    "# All channels, codec h264, location pt\n",
    "df_rtp_h264_pt = all_histograms.loc[(all_histograms['channel'] == 'rtp1') & (all_histograms['codec'] == 'h264') & (all_histograms['location']=='pt')]\n",
    "df_sportv_h264_pt = all_histograms.loc[(all_histograms['channel'] == 'sporttv1') & (all_histograms['codec'] == 'h264') & (all_histograms['location']=='pt')]\n",
    "gk1 = df_rtp_h264_pt.groupby(['10'])\n",
    "gk2 = df_sportv_h264_pt.groupby(['10'])\n",
    "\n",
    "dataframes = [group for _, group in gk1]\n",
    "dataframes2 = [group for _, group in gk2]\n",
    "histograms_list = dataframes + dataframes2\n",
    "\n",
    "now = datetime.now()\n",
    "current_time = now.strftime(\"%H:%M:%S\")\n",
    "print(\"Current Time =\", current_time)\n",
    "\n",
    "df_ch_codec_loc = compute_histogram_dtw(histograms_list)\n",
    "df_dtw_k_cen2 = pd.DataFrame(df_ch_codec_loc, columns=['vpn1', 'vpn2', 'dtw', 'euclidean','path', 'cost_matrix', 'x', 'y', 'diagonal_dtw', 'diagonal_euclidean'])\n",
    "df_dtw_k_cen2.to_csv(\"/IPTV_Datasets_28Jan/\" + \"dtw_scenario2\" + \".csv\", index=False, header=True)\n",
    "\n",
    "now = datetime.now()\n",
    "current_time = now.strftime(\"%H:%M:%S\")\n",
    "print(\"Current Time =\", current_time)"
   ],
   "metadata": {
    "collapsed": false,
    "pycharm": {
     "name": "#%%\n"
    }
   }
  },
  {
   "cell_type": "code",
   "execution_count": 102,
   "outputs": [
    {
     "name": "stdout",
     "output_type": "stream",
     "text": [
      "Current Time = 13:12:03\n",
      "Current Time = 16:05:39\n"
     ]
    }
   ],
   "source": [
    "## All channels, all codecs, location pt\n",
    "now = datetime.now()\n",
    "print(\"Current Time =\", now.strftime(\"%H:%M:%S\"))\n",
    "\n",
    "df_rtp_pt = all_histograms.loc[(all_histograms['channel'] == 'rtp1') & (all_histograms['location']=='pt')]\n",
    "df_sportv_pt = all_histograms.loc[(all_histograms['channel'] == 'sporttv1') & (all_histograms['location']=='pt')]\n",
    "\n",
    "if(df_rtp_pt.shape[0] > 0 and df_sportv_pt.shape[0] > 0):\n",
    "    gk1 = df_rtp_pt.groupby(['10'])\n",
    "    gk2 = df_sportv_pt.groupby(['10'])\n",
    "\n",
    "    dataframes = [group for _, group in gk1]\n",
    "    dataframes2 = [group for _, group in gk2]\n",
    "    histograms_list = dataframes + dataframes2\n",
    "\n",
    "    df_ch_codec_loc = compute_histogram_dtw(histograms_list)\n",
    "    df_dtw_k = pd.DataFrame(df_ch_codec_loc, columns=['vpn1', 'vpn2', 'dtw', 'euclidean','path', 'cost_matrix', 'x', 'y', 'diagonal_dtw', 'diagonal_euclidean'])\n",
    "    df_dtw_k.to_csv(\"/IPTV_Datasets_28Jan/\" + \"scenario6\" + \".csv\", index=False, header=True)\n",
    "\n",
    "now = datetime.now()\n",
    "print(\"Current Time =\", now.strftime(\"%H:%M:%S\"))"
   ],
   "metadata": {
    "collapsed": false,
    "pycharm": {
     "name": "#%%\n"
    }
   }
  },
  {
   "cell_type": "code",
   "execution_count": 12,
   "outputs": [
    {
     "name": "stdout",
     "output_type": "stream",
     "text": [
      "Current Time = 23:17:42\n",
      "Current Time = 05:35:33\n"
     ]
    }
   ],
   "source": [
    "## All channels, all codecs, location uk\n",
    "now = datetime.now()\n",
    "print(\"Current Time =\", now.strftime(\"%H:%M:%S\"))\n",
    "\n",
    "df_rtp = all_histograms.loc[(all_histograms['channel'] == 'rtp1')]\n",
    "df_sportv = all_histograms.loc[(all_histograms['channel'] == 'sporttv1')]\n",
    "\n",
    "hist_list = create_histogram_list(df_rtp, df_sportv)\n",
    "df_ch_codec_loc = compute_histogram_dtw(hist_list)\n",
    "df_dtw_k = pd.DataFrame(df_ch_codec_loc,\n",
    "            columns=['vpn1', 'vpn2', 'dtw', 'euclidean', 'path', 'cost_matrix', 'x', 'y',\n",
    "            'diagonal_dtw', 'diagonal_euclidean'])\n",
    "df_dtw_k.to_csv(\"/IPTV_Datasets_28Jan/\" + \"dtw_cenario7\" + \".csv\", index=False, header=True)\n",
    "\n",
    "now = datetime.now()\n",
    "print(\"Current Time =\", now.strftime(\"%H:%M:%S\"))"
   ],
   "metadata": {
    "collapsed": false,
    "pycharm": {
     "name": "#%%\n"
    }
   }
  },
  {
   "cell_type": "code",
   "execution_count": 13,
   "outputs": [
    {
     "name": "stdout",
     "output_type": "stream",
     "text": [
      "Current Time = 05:35:33\n",
      "Current Time = 06:17:39\n"
     ]
    }
   ],
   "source": [
    "## DTW by codec\n",
    "# Same channel, different codecs\n",
    "# channel rtp, codecs h264 e hevec\n",
    "\n",
    "now = datetime.now()\n",
    "print(\"Current Time =\", now.strftime(\"%H:%M:%S\"))\n",
    "\n",
    "df_rpt_h264 = all_histograms.loc[(all_histograms['channel'] == 'rtp1') & (all_histograms['codec'] == 'h264')]\n",
    "df_rtp_hevc = all_histograms.loc[(all_histograms['channel'] == 'rtp1') & (all_histograms['codec'] == 'hevc')]\n",
    "\n",
    "hist_list = create_histogram_list(df_rpt_h264, df_rtp_hevc)\n",
    "df_ch_codec_loc = compute_histogram_dtw(hist_list)\n",
    "df_dtw_k = pd.DataFrame(df_ch_codec_loc,\n",
    "            columns=['vpn1', 'vpn2', 'dtw', 'euclidean', 'path', 'cost_matrix', 'x', 'y',\n",
    "            'diagonal_dtw', 'diagonal_euclidean'])\n",
    "df_dtw_k.to_csv(\"/IPTV_Datasets_28Jan/\" + \"dtw_scenario8\" + \".csv\", index=False, header=True)\n",
    "\n",
    "now = datetime.now()\n",
    "print(\"Current Time =\", now.strftime(\"%H:%M:%S\"))"
   ],
   "metadata": {
    "collapsed": false,
    "pycharm": {
     "name": "#%%\n"
    }
   }
  },
  {
   "cell_type": "code",
   "execution_count": 15,
   "outputs": [
    {
     "name": "stdout",
     "output_type": "stream",
     "text": [
      "Current Time = 06:39:06\n",
      "Current Time = 09:17:57\n"
     ]
    }
   ],
   "source": [
    "# channel sportv, codecs h264 e hevec\n",
    "\n",
    "now = datetime.now()\n",
    "print(\"Current Time =\", now.strftime(\"%H:%M:%S\"))\n",
    "\n",
    "df_sptv_hevec = all_histograms.loc[(all_histograms['channel'] == 'sporttv1') & (all_histograms['codec'] == 'h264')]\n",
    "df_sptv_h264 = all_histograms.loc[(all_histograms['channel'] == 'sporttv1') & (all_histograms['codec'] == 'hevc')]\n",
    "\n",
    "hist_list = create_histogram_list(df_sptv_hevec, df_sptv_h264)\n",
    "df_ch_codec_loc = compute_histogram_dtw(hist_list)\n",
    "df_dtw_k = pd.DataFrame(df_ch_codec_loc,\n",
    "            columns=['vpn1', 'vpn2', 'dtw', 'euclidean', 'path', 'cost_matrix', 'x', 'y',\n",
    "            'diagonal_dtw', 'diagonal_euclidean'])\n",
    "df_dtw_k.to_csv(\"/IPTV_Datasets_28Jan/\" + \"dtw_scenario9\" + \".csv\", index=False, header=True)\n",
    "\n",
    "now = datetime.now()\n",
    "print(\"Current Time =\", now.strftime(\"%H:%M:%S\"))\n"
   ],
   "metadata": {
    "collapsed": false,
    "pycharm": {
     "name": "#%%\n"
    }
   }
  },
  {
   "cell_type": "code",
   "execution_count": 16,
   "outputs": [
    {
     "name": "stdout",
     "output_type": "stream",
     "text": [
      "Current Time = 13:37:54\n",
      "Current Time = 16:42:08\n"
     ]
    }
   ],
   "source": [
    "# Channel sportv1, all locations\n",
    "now = datetime.now()\n",
    "print(\"Current Time =\", now.strftime(\"%H:%M:%S\"))\n",
    "\n",
    "df_sptv_uk = all_histograms.loc[(all_histograms['channel'] == 'sporttv1') & (all_histograms['location'] == 'uk')]\n",
    "df_sptv_pt = all_histograms.loc[(all_histograms['channel'] == 'sporttv1') & (all_histograms['location'] == 'pt')]\n",
    "\n",
    "hist_list = create_histogram_list(df_sptv_uk, df_sptv_pt)\n",
    "df_ch_codec_loc = compute_histogram_dtw(hist_list)\n",
    "df_dtw_k = pd.DataFrame(df_ch_codec_loc,\n",
    "            columns=['vpn1', 'vpn2', 'dtw', 'euclidean', 'path', 'cost_matrix', 'x', 'y',\n",
    "            'diagonal_dtw', 'diagonal_euclidean'])\n",
    "df_dtw_k.to_csv(\"/IPTV_Datasets_28Jan/\" + \"dtw_scenario10\" + \".csv\", index=False, header=True)\n",
    "\n",
    "now = datetime.now()\n",
    "print(\"Current Time =\", now.strftime(\"%H:%M:%S\"))"
   ],
   "metadata": {
    "collapsed": false,
    "pycharm": {
     "name": "#%%\n"
    }
   }
  },
  {
   "cell_type": "code",
   "execution_count": 17,
   "outputs": [
    {
     "name": "stdout",
     "output_type": "stream",
     "text": [
      "Current Time = 09:38:00\n"
     ]
    },
    {
     "ename": "TypeError",
     "evalue": "'NoneType' object is not iterable",
     "output_type": "error",
     "traceback": [
      "\u001B[0;31m---------------------------------------------------------------------------\u001B[0m",
      "\u001B[0;31mTypeError\u001B[0m                                 Traceback (most recent call last)",
      "Input \u001B[0;32mIn [17]\u001B[0m, in \u001B[0;36m<cell line: 8>\u001B[0;34m()\u001B[0m\n\u001B[1;32m      5\u001B[0m df_rtp_pt \u001B[38;5;241m=\u001B[39m all_histograms\u001B[38;5;241m.\u001B[39mloc[(all_histograms[\u001B[38;5;124m'\u001B[39m\u001B[38;5;124mchannel\u001B[39m\u001B[38;5;124m'\u001B[39m] \u001B[38;5;241m==\u001B[39m \u001B[38;5;124m'\u001B[39m\u001B[38;5;124mrtp1\u001B[39m\u001B[38;5;124m'\u001B[39m) \u001B[38;5;241m&\u001B[39m (all_histograms[\u001B[38;5;124m'\u001B[39m\u001B[38;5;124mlocation\u001B[39m\u001B[38;5;124m'\u001B[39m] \u001B[38;5;241m==\u001B[39m \u001B[38;5;124m'\u001B[39m\u001B[38;5;124mpt\u001B[39m\u001B[38;5;124m'\u001B[39m)]\n\u001B[1;32m      7\u001B[0m hist_list \u001B[38;5;241m=\u001B[39m create_histogram_list(df_rtp_uk, df_rtp_pt)\n\u001B[0;32m----> 8\u001B[0m df_ch_codec_loc \u001B[38;5;241m=\u001B[39m \u001B[43mcompute_histogram_dtw\u001B[49m\u001B[43m(\u001B[49m\u001B[43mhist_list\u001B[49m\u001B[43m)\u001B[49m\n\u001B[1;32m      9\u001B[0m df_dtw_k \u001B[38;5;241m=\u001B[39m pd\u001B[38;5;241m.\u001B[39mDataFrame(df_ch_codec_loc,\n\u001B[1;32m     10\u001B[0m             columns\u001B[38;5;241m=\u001B[39m[\u001B[38;5;124m'\u001B[39m\u001B[38;5;124mvpn1\u001B[39m\u001B[38;5;124m'\u001B[39m, \u001B[38;5;124m'\u001B[39m\u001B[38;5;124mvpn2\u001B[39m\u001B[38;5;124m'\u001B[39m, \u001B[38;5;124m'\u001B[39m\u001B[38;5;124mdtw\u001B[39m\u001B[38;5;124m'\u001B[39m, \u001B[38;5;124m'\u001B[39m\u001B[38;5;124meuclidian\u001B[39m\u001B[38;5;124m'\u001B[39m, \u001B[38;5;124m'\u001B[39m\u001B[38;5;124mpath\u001B[39m\u001B[38;5;124m'\u001B[39m, \u001B[38;5;124m'\u001B[39m\u001B[38;5;124mcost_matrix\u001B[39m\u001B[38;5;124m'\u001B[39m, \u001B[38;5;124m'\u001B[39m\u001B[38;5;124mx\u001B[39m\u001B[38;5;124m'\u001B[39m, \u001B[38;5;124m'\u001B[39m\u001B[38;5;124my\u001B[39m\u001B[38;5;124m'\u001B[39m,\n\u001B[1;32m     11\u001B[0m             \u001B[38;5;124m'\u001B[39m\u001B[38;5;124mdiagonal_dtw\u001B[39m\u001B[38;5;124m'\u001B[39m, \u001B[38;5;124m'\u001B[39m\u001B[38;5;124mdiagonal_euclidian\u001B[39m\u001B[38;5;124m'\u001B[39m])\n\u001B[1;32m     12\u001B[0m df_dtw_k\u001B[38;5;241m.\u001B[39mto_csv(\u001B[38;5;124m\"\u001B[39m\u001B[38;5;124m/Volumes/GoogleDrive/Meu Drive/AIDA/Data/WEDO/IPTV_Datasets_28Jan/\u001B[39m\u001B[38;5;124m\"\u001B[39m \u001B[38;5;241m+\u001B[39m \u001B[38;5;124m\"\u001B[39m\u001B[38;5;124mdtw_cenario11\u001B[39m\u001B[38;5;124m\"\u001B[39m \u001B[38;5;241m+\u001B[39m \u001B[38;5;124m\"\u001B[39m\u001B[38;5;124m.csv\u001B[39m\u001B[38;5;124m\"\u001B[39m, index\u001B[38;5;241m=\u001B[39m\u001B[38;5;28;01mFalse\u001B[39;00m, header\u001B[38;5;241m=\u001B[39m\u001B[38;5;28;01mTrue\u001B[39;00m)\n",
      "File \u001B[0;32m/Volumes/GoogleDrive/Meu Drive/AIDA/aidaProject/aidabook/dtw_aida.py:144\u001B[0m, in \u001B[0;36mcompute_histogram_dtw\u001B[0;34m(histograms_list)\u001B[0m\n\u001B[1;32m    142\u001B[0m \u001B[38;5;28;01mdef\u001B[39;00m \u001B[38;5;21mcompute_histogram_dtw\u001B[39m(histograms_list):\n\u001B[1;32m    143\u001B[0m     list_dtw_k \u001B[38;5;241m=\u001B[39m []\n\u001B[0;32m--> 144\u001B[0m     \u001B[38;5;28;01mfor\u001B[39;00m hist1 \u001B[38;5;129;01min\u001B[39;00m histograms_list:\n\u001B[1;32m    145\u001B[0m         \u001B[38;5;28;01mfor\u001B[39;00m hist2 \u001B[38;5;129;01min\u001B[39;00m histograms_list:\n\u001B[1;32m    146\u001B[0m             \u001B[38;5;28;01mif\u001B[39;00m (hist1 \u001B[38;5;129;01mis\u001B[39;00m \u001B[38;5;129;01mnot\u001B[39;00m \u001B[38;5;28;01mNone\u001B[39;00m \u001B[38;5;129;01mand\u001B[39;00m hist2 \u001B[38;5;129;01mis\u001B[39;00m \u001B[38;5;129;01mnot\u001B[39;00m \u001B[38;5;28;01mNone\u001B[39;00m):\n",
      "\u001B[0;31mTypeError\u001B[0m: 'NoneType' object is not iterable"
     ]
    }
   ],
   "source": [
    "# Channel rtp1, all locations\n",
    "now = datetime.now()\n",
    "print(\"Current Time =\", now.strftime(\"%H:%M:%S\"))\n",
    "\n",
    "df_rtp_uk = all_histograms.loc[(all_histograms['channel'] == 'rtp1') & (all_histograms['location'] == 'uk')]\n",
    "df_rtp_pt = all_histograms.loc[(all_histograms['channel'] == 'rtp1') & (all_histograms['location'] == 'pt')]\n",
    "\n",
    "hist_list = create_histogram_list(df_rtp_uk, df_rtp_pt)\n",
    "df_ch_codec_loc = compute_histogram_dtw(hist_list)\n",
    "df_dtw_k = pd.DataFrame(df_ch_codec_loc,\n",
    "            columns=['vpn1', 'vpn2', 'dtw', 'euclidian', 'path', 'cost_matrix', 'x', 'y',\n",
    "            'diagonal_dtw', 'diagonal_euclidian'])\n",
    "df_dtw_k.to_csv(\"/IPTV_Datasets_28Jan/\" + \"dtw_scenario11\" + \".csv\", index=False, header=True)\n",
    "now = datetime.now()\n",
    "print(\"Current Time =\", now.strftime(\"%H:%M:%S\"))\n",
    "\n"
   ],
   "metadata": {
    "collapsed": false,
    "pycharm": {
     "name": "#%%\n"
    }
   }
  },
  {
   "cell_type": "code",
   "execution_count": null,
   "outputs": [],
   "source": [
    "# DTW by location\n",
    "now = datetime.now()\n",
    "print(\"Current Time =\", now.strftime(\"%H:%M:%S\"))\n",
    "\n",
    "df_uk = all_histograms.loc[(all_histograms['location'] == 'uk')]\n",
    "df_pt = all_histograms.loc[(all_histograms['location'] == 'pt')]\n",
    "\n",
    "hist_list = create_histogram_list(df_uk, df_pt)\n",
    "df_ch_codec_loc = compute_histogram_dtw(hist_list)\n",
    "df_dtw_k = pd.DataFrame(df_ch_codec_loc,\n",
    "            columns=['vpn1', 'vpn2', 'dtw', 'euclidean', 'path', 'cost_matrix', 'x', 'y',\n",
    "            'diagonal_dtw', 'diagonal_euclidean'])\n",
    "df_dtw_k.to_csv(\"/IPTV_Datasets_28Jan/\" + \"dtw_scenario12\" + \".csv\", index=False, header=True)\n",
    "\n",
    "now = datetime.now()\n",
    "print(\"Current Time =\", now.strftime(\"%H:%M:%S\"))"
   ],
   "metadata": {
    "collapsed": false,
    "pycharm": {
     "name": "#%%\n"
    }
   }
  },
  {
   "cell_type": "code",
   "execution_count": 73,
   "outputs": [
    {
     "name": "stdout",
     "output_type": "stream",
     "text": [
      "Current Time = 09:57:14\n"
     ]
    },
    {
     "data": {
      "text/plain": "             0    1         2         3    4         5    6    7    8  \\\n6661  0.100000  0.0  0.000000  0.300000  0.0  0.500000  0.0  0.0  0.0   \n6662  0.431890  0.0  0.000000  0.000628  0.0  0.000628  0.0  0.0  0.0   \n6663  0.371265  0.0  0.000000  0.000000  0.0  0.000000  0.0  0.0  0.0   \n6664  0.276224  0.0  0.000000  0.000000  0.0  0.003497  0.0  0.0  0.0   \n6665  0.351724  0.0  0.000000  0.000000  0.0  0.000000  0.0  0.0  0.0   \n6666  0.304207  0.0  0.000000  0.000000  0.0  0.003236  0.0  0.0  0.0   \n6667  0.353211  0.0  0.002294  0.000000  0.0  0.000000  0.0  0.0  0.0   \n6668  0.322034  0.0  0.000000  0.000000  0.0  0.003390  0.0  0.0  0.0   \n6669  0.301226  0.0  0.000000  0.000000  0.0  0.000000  0.0  0.0  0.0   \n6670  0.259868  0.0  0.000000  0.000000  0.0  0.003289  0.0  0.0  0.0   \n\n             9                                                 10  \\\n6661  0.100000  tmplist2_pt:sportv1fhd_with_vpn_28psrzdcbgfkwu...   \n6662  0.566855  tmplist2_pt:sportv1fhd_with_vpn_28psrzdcbgfkwu...   \n6663  0.628735  tmplist2_pt:sportv1fhd_with_vpn_28psrzdcbgfkwu...   \n6664  0.720280  tmplist2_pt:sportv1fhd_with_vpn_28psrzdcbgfkwu...   \n6665  0.648276  tmplist2_pt:sportv1fhd_with_vpn_28psrzdcbgfkwu...   \n6666  0.692557  tmplist2_pt:sportv1fhd_with_vpn_28psrzdcbgfkwu...   \n6667  0.644495  tmplist2_pt:sportv1fhd_with_vpn_28psrzdcbgfkwu...   \n6668  0.674576  tmplist2_pt:sportv1fhd_with_vpn_28psrzdcbgfkwu...   \n6669  0.698774  tmplist2_pt:sportv1fhd_with_vpn_28psrzdcbgfkwu...   \n6670  0.736842  tmplist2_pt:sportv1fhd_with_vpn_28psrzdcbgfkwu...   \n\n                                                     11  \\\n6661  tmplist2_pt:sportv1fhd_with_vpn_28psrzdcbgfkwu...   \n6662  tmplist2_pt:sportv1fhd_with_vpn_28psrzdcbgfkwu...   \n6663  tmplist2_pt:sportv1fhd_with_vpn_28psrzdcbgfkwu...   \n6664  tmplist2_pt:sportv1fhd_with_vpn_28psrzdcbgfkwu...   \n6665  tmplist2_pt:sportv1fhd_with_vpn_28psrzdcbgfkwu...   \n6666  tmplist2_pt:sportv1fhd_with_vpn_28psrzdcbgfkwu...   \n6667  tmplist2_pt:sportv1fhd_with_vpn_28psrzdcbgfkwu...   \n6668  tmplist2_pt:sportv1fhd_with_vpn_28psrzdcbgfkwu...   \n6669  tmplist2_pt:sportv1fhd_with_vpn_28psrzdcbgfkwu...   \n6670  tmplist2_pt:sportv1fhd_with_vpn_28psrzdcbgfkwu...   \n\n                     foldername   channel location codec  group_time      time  \n6661  tmplist2_sporttv1_pt_h264  sporttv1       pt  h264           2  13-50-58  \n6662  tmplist2_sporttv1_pt_h264  sporttv1       pt  h264           2  13-50-58  \n6663  tmplist2_sporttv1_pt_h264  sporttv1       pt  h264           2  13-50-58  \n6664  tmplist2_sporttv1_pt_h264  sporttv1       pt  h264           2  13-50-58  \n6665  tmplist2_sporttv1_pt_h264  sporttv1       pt  h264           2  13-50-58  \n6666  tmplist2_sporttv1_pt_h264  sporttv1       pt  h264           2  13-50-58  \n6667  tmplist2_sporttv1_pt_h264  sporttv1       pt  h264           2  13-50-58  \n6668  tmplist2_sporttv1_pt_h264  sporttv1       pt  h264           2  13-50-58  \n6669  tmplist2_sporttv1_pt_h264  sporttv1       pt  h264           2  13-50-58  \n6670  tmplist2_sporttv1_pt_h264  sporttv1       pt  h264           2  13-50-58  ",
      "text/html": "<div>\n<style scoped>\n    .dataframe tbody tr th:only-of-type {\n        vertical-align: middle;\n    }\n\n    .dataframe tbody tr th {\n        vertical-align: top;\n    }\n\n    .dataframe thead th {\n        text-align: right;\n    }\n</style>\n<table border=\"1\" class=\"dataframe\">\n  <thead>\n    <tr style=\"text-align: right;\">\n      <th></th>\n      <th>0</th>\n      <th>1</th>\n      <th>2</th>\n      <th>3</th>\n      <th>4</th>\n      <th>5</th>\n      <th>6</th>\n      <th>7</th>\n      <th>8</th>\n      <th>9</th>\n      <th>10</th>\n      <th>11</th>\n      <th>foldername</th>\n      <th>channel</th>\n      <th>location</th>\n      <th>codec</th>\n      <th>group_time</th>\n      <th>time</th>\n    </tr>\n  </thead>\n  <tbody>\n    <tr>\n      <th>6661</th>\n      <td>0.100000</td>\n      <td>0.0</td>\n      <td>0.000000</td>\n      <td>0.300000</td>\n      <td>0.0</td>\n      <td>0.500000</td>\n      <td>0.0</td>\n      <td>0.0</td>\n      <td>0.0</td>\n      <td>0.100000</td>\n      <td>tmplist2_pt:sportv1fhd_with_vpn_28psrzdcbgfkwu...</td>\n      <td>tmplist2_pt:sportv1fhd_with_vpn_28psrzdcbgfkwu...</td>\n      <td>tmplist2_sporttv1_pt_h264</td>\n      <td>sporttv1</td>\n      <td>pt</td>\n      <td>h264</td>\n      <td>2</td>\n      <td>13-50-58</td>\n    </tr>\n    <tr>\n      <th>6662</th>\n      <td>0.431890</td>\n      <td>0.0</td>\n      <td>0.000000</td>\n      <td>0.000628</td>\n      <td>0.0</td>\n      <td>0.000628</td>\n      <td>0.0</td>\n      <td>0.0</td>\n      <td>0.0</td>\n      <td>0.566855</td>\n      <td>tmplist2_pt:sportv1fhd_with_vpn_28psrzdcbgfkwu...</td>\n      <td>tmplist2_pt:sportv1fhd_with_vpn_28psrzdcbgfkwu...</td>\n      <td>tmplist2_sporttv1_pt_h264</td>\n      <td>sporttv1</td>\n      <td>pt</td>\n      <td>h264</td>\n      <td>2</td>\n      <td>13-50-58</td>\n    </tr>\n    <tr>\n      <th>6663</th>\n      <td>0.371265</td>\n      <td>0.0</td>\n      <td>0.000000</td>\n      <td>0.000000</td>\n      <td>0.0</td>\n      <td>0.000000</td>\n      <td>0.0</td>\n      <td>0.0</td>\n      <td>0.0</td>\n      <td>0.628735</td>\n      <td>tmplist2_pt:sportv1fhd_with_vpn_28psrzdcbgfkwu...</td>\n      <td>tmplist2_pt:sportv1fhd_with_vpn_28psrzdcbgfkwu...</td>\n      <td>tmplist2_sporttv1_pt_h264</td>\n      <td>sporttv1</td>\n      <td>pt</td>\n      <td>h264</td>\n      <td>2</td>\n      <td>13-50-58</td>\n    </tr>\n    <tr>\n      <th>6664</th>\n      <td>0.276224</td>\n      <td>0.0</td>\n      <td>0.000000</td>\n      <td>0.000000</td>\n      <td>0.0</td>\n      <td>0.003497</td>\n      <td>0.0</td>\n      <td>0.0</td>\n      <td>0.0</td>\n      <td>0.720280</td>\n      <td>tmplist2_pt:sportv1fhd_with_vpn_28psrzdcbgfkwu...</td>\n      <td>tmplist2_pt:sportv1fhd_with_vpn_28psrzdcbgfkwu...</td>\n      <td>tmplist2_sporttv1_pt_h264</td>\n      <td>sporttv1</td>\n      <td>pt</td>\n      <td>h264</td>\n      <td>2</td>\n      <td>13-50-58</td>\n    </tr>\n    <tr>\n      <th>6665</th>\n      <td>0.351724</td>\n      <td>0.0</td>\n      <td>0.000000</td>\n      <td>0.000000</td>\n      <td>0.0</td>\n      <td>0.000000</td>\n      <td>0.0</td>\n      <td>0.0</td>\n      <td>0.0</td>\n      <td>0.648276</td>\n      <td>tmplist2_pt:sportv1fhd_with_vpn_28psrzdcbgfkwu...</td>\n      <td>tmplist2_pt:sportv1fhd_with_vpn_28psrzdcbgfkwu...</td>\n      <td>tmplist2_sporttv1_pt_h264</td>\n      <td>sporttv1</td>\n      <td>pt</td>\n      <td>h264</td>\n      <td>2</td>\n      <td>13-50-58</td>\n    </tr>\n    <tr>\n      <th>6666</th>\n      <td>0.304207</td>\n      <td>0.0</td>\n      <td>0.000000</td>\n      <td>0.000000</td>\n      <td>0.0</td>\n      <td>0.003236</td>\n      <td>0.0</td>\n      <td>0.0</td>\n      <td>0.0</td>\n      <td>0.692557</td>\n      <td>tmplist2_pt:sportv1fhd_with_vpn_28psrzdcbgfkwu...</td>\n      <td>tmplist2_pt:sportv1fhd_with_vpn_28psrzdcbgfkwu...</td>\n      <td>tmplist2_sporttv1_pt_h264</td>\n      <td>sporttv1</td>\n      <td>pt</td>\n      <td>h264</td>\n      <td>2</td>\n      <td>13-50-58</td>\n    </tr>\n    <tr>\n      <th>6667</th>\n      <td>0.353211</td>\n      <td>0.0</td>\n      <td>0.002294</td>\n      <td>0.000000</td>\n      <td>0.0</td>\n      <td>0.000000</td>\n      <td>0.0</td>\n      <td>0.0</td>\n      <td>0.0</td>\n      <td>0.644495</td>\n      <td>tmplist2_pt:sportv1fhd_with_vpn_28psrzdcbgfkwu...</td>\n      <td>tmplist2_pt:sportv1fhd_with_vpn_28psrzdcbgfkwu...</td>\n      <td>tmplist2_sporttv1_pt_h264</td>\n      <td>sporttv1</td>\n      <td>pt</td>\n      <td>h264</td>\n      <td>2</td>\n      <td>13-50-58</td>\n    </tr>\n    <tr>\n      <th>6668</th>\n      <td>0.322034</td>\n      <td>0.0</td>\n      <td>0.000000</td>\n      <td>0.000000</td>\n      <td>0.0</td>\n      <td>0.003390</td>\n      <td>0.0</td>\n      <td>0.0</td>\n      <td>0.0</td>\n      <td>0.674576</td>\n      <td>tmplist2_pt:sportv1fhd_with_vpn_28psrzdcbgfkwu...</td>\n      <td>tmplist2_pt:sportv1fhd_with_vpn_28psrzdcbgfkwu...</td>\n      <td>tmplist2_sporttv1_pt_h264</td>\n      <td>sporttv1</td>\n      <td>pt</td>\n      <td>h264</td>\n      <td>2</td>\n      <td>13-50-58</td>\n    </tr>\n    <tr>\n      <th>6669</th>\n      <td>0.301226</td>\n      <td>0.0</td>\n      <td>0.000000</td>\n      <td>0.000000</td>\n      <td>0.0</td>\n      <td>0.000000</td>\n      <td>0.0</td>\n      <td>0.0</td>\n      <td>0.0</td>\n      <td>0.698774</td>\n      <td>tmplist2_pt:sportv1fhd_with_vpn_28psrzdcbgfkwu...</td>\n      <td>tmplist2_pt:sportv1fhd_with_vpn_28psrzdcbgfkwu...</td>\n      <td>tmplist2_sporttv1_pt_h264</td>\n      <td>sporttv1</td>\n      <td>pt</td>\n      <td>h264</td>\n      <td>2</td>\n      <td>13-50-58</td>\n    </tr>\n    <tr>\n      <th>6670</th>\n      <td>0.259868</td>\n      <td>0.0</td>\n      <td>0.000000</td>\n      <td>0.000000</td>\n      <td>0.0</td>\n      <td>0.003289</td>\n      <td>0.0</td>\n      <td>0.0</td>\n      <td>0.0</td>\n      <td>0.736842</td>\n      <td>tmplist2_pt:sportv1fhd_with_vpn_28psrzdcbgfkwu...</td>\n      <td>tmplist2_pt:sportv1fhd_with_vpn_28psrzdcbgfkwu...</td>\n      <td>tmplist2_sporttv1_pt_h264</td>\n      <td>sporttv1</td>\n      <td>pt</td>\n      <td>h264</td>\n      <td>2</td>\n      <td>13-50-58</td>\n    </tr>\n  </tbody>\n</table>\n</div>"
     },
     "execution_count": 73,
     "metadata": {},
     "output_type": "execute_result"
    }
   ],
   "source": [
    "## DTW por codecs\n",
    "now = datetime.now()\n",
    "print(\"Current Time =\", now.strftime(\"%H:%M:%S\"))\n",
    "\n",
    "df_hevec_cen13 = all_histograms.loc[(all_histograms['codec'] == 'hevc')]\n",
    "df_h264_cen13 = all_histograms.loc[(all_histograms['codec'] == 'h264')]\n",
    "\n",
    "df_hevec_cen13_gk1 = df_hevec_cen13.groupby(['10'])\n",
    "df_h264_cen13_gk2 = df_h264_cen13.groupby(['10'])\n",
    "\n",
    "dataframes = [group for _, group in df_hevec_cen13_gk1]\n",
    "dataframes2 = [group for _, group in df_h264_cen13_gk2]\n",
    "\n",
    "histograms_list_cen13 = dataframes + dataframes2\n",
    "\n",
    "df_hist_cen13 = compute_histogram_dtw(histograms_list_cen13)\n",
    "df_dtw_k_cen13 = pd.DataFrame(df_hist_cen13, columns=['vpn1', 'vpn2', 'dtw', 'euclidian','path', 'cost_matrix', 'x', 'y', 'diagonal_dtw', 'diagonal_euclidian'])\n",
    "df_dtw_k_cen13.to_csv(\"/IPTV_Datasets_28Jan/\" + \"dtw_scenario13_codecs\" + \".csv\", index=False, header=True)\n",
    "\n",
    "now = datetime.now()\n",
    "print(\"Current Time =\", now.strftime(\"%H:%M:%S\"))\n",
    "\n"
   ],
   "metadata": {
    "collapsed": false,
    "pycharm": {
     "name": "#%%\n"
    }
   }
  }
 ],
 "metadata": {
  "interpreter": {
   "hash": "0adcc2737ebf6a4a119f135174df96668767fca1ef1112612db5ecadf2b6d608"
  },
  "kernelspec": {
   "name": "pycharm-4168718a",
   "language": "python",
   "display_name": "PyCharm (aidaProject)"
  },
  "language_info": {
   "codemirror_mode": {
    "name": "ipython",
    "version": 3
   },
   "file_extension": ".py",
   "mimetype": "text/x-python",
   "name": "python",
   "nbconvert_exporter": "python",
   "pygments_lexer": "ipython3",
   "version": "3.8.6"
  }
 },
 "nbformat": 4,
 "nbformat_minor": 1
}