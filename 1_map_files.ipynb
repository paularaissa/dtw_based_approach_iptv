{
 "cells": [
  {
   "cell_type": "code",
   "execution_count": 1,
   "metadata": {
    "collapsed": true
   },
   "outputs": [],
   "source": [
    "import os\n",
    "import glob\n",
    "from operator import itemgetter\n",
    "import pandas as pd\n",
    "import datetime"
   ]
  },
  {
   "cell_type": "code",
   "execution_count": 14,
   "outputs": [
    {
     "name": "stdout",
     "output_type": "stream",
     "text": [
      "['/Volumes/GoogleDrive/Meu Drive/AIDA/Data/WEDO/IPTV_Datasets_28Jan/tmplist5_sporttv1_pt_hevc', '/Volumes/GoogleDrive/Meu Drive/AIDA/Data/WEDO/IPTV_Datasets_28Jan/tmplist6_rtp1_pt_hevc', '/Volumes/GoogleDrive/Meu Drive/AIDA/Data/WEDO/IPTV_Datasets_28Jan/tmplist2_sporttv1_pt_h264', '/Volumes/GoogleDrive/Meu Drive/AIDA/Data/WEDO/IPTV_Datasets_28Jan/tmplist1_sporttv1_uk_h264', '/Volumes/GoogleDrive/Meu Drive/AIDA/Data/WEDO/IPTV_Datasets_28Jan/tmplist4_sporttv1_uk_hevc', '/Volumes/GoogleDrive/Meu Drive/AIDA/Data/WEDO/IPTV_Datasets_28Jan/tmplist3_rtp1_pt_h264']\n"
     ]
    },
    {
     "data": {
      "text/plain": "         date      time                                           filename  \\\n0  2022-02-02  11-31-48  tmplist5_pt_sportv1hevc_without_vpn_2u9q3bq1f9...   \n1  2022-02-02  11-41-38  tmplist5_pt_sportv1hevc_without_vpn_3x4712uxky...   \n2  2022-02-02  14-27-14  tmplist5_pt_sportv1hevc_without_vpn_5fu61xjunp...   \n3  2022-02-02  13-31-39  tmplist5_pt_sportv1hevc_without_vpn_5qjsk2qnp8...   \n4  2022-02-02  14-21-32  tmplist5_pt_sportv1hevc_without_vpn_5vmdwnyjsn...   \n5  2022-02-02   13-22-5  tmplist5_pt_sportv1hevc_without_vpn_6jbfwjhqve...   \n6  2022-02-02  12-31-13  tmplist5_pt_sportv1hevc_without_vpn_6sbtpbtsps...   \n7  2022-02-02   13-12-9  tmplist5_pt_sportv1hevc_without_vpn_8hek8jzdrq...   \n8  2022-02-02   12-22-1  tmplist5_pt_sportv1hevc_without_vpn_cwzru2prm4...   \n9  2022-02-02  12-11-50  tmplist5_pt_sportv1hevc_without_vpn_dkbxjes8cm...   \n\n                  foldername   channel location codec  \n0  tmplist5_sporttv1_pt_hevc  sporttv1       pt  hevc  \n1  tmplist5_sporttv1_pt_hevc  sporttv1       pt  hevc  \n2  tmplist5_sporttv1_pt_hevc  sporttv1       pt  hevc  \n3  tmplist5_sporttv1_pt_hevc  sporttv1       pt  hevc  \n4  tmplist5_sporttv1_pt_hevc  sporttv1       pt  hevc  \n5  tmplist5_sporttv1_pt_hevc  sporttv1       pt  hevc  \n6  tmplist5_sporttv1_pt_hevc  sporttv1       pt  hevc  \n7  tmplist5_sporttv1_pt_hevc  sporttv1       pt  hevc  \n8  tmplist5_sporttv1_pt_hevc  sporttv1       pt  hevc  \n9  tmplist5_sporttv1_pt_hevc  sporttv1       pt  hevc  ",
      "text/html": "<div>\n<style scoped>\n    .dataframe tbody tr th:only-of-type {\n        vertical-align: middle;\n    }\n\n    .dataframe tbody tr th {\n        vertical-align: top;\n    }\n\n    .dataframe thead th {\n        text-align: right;\n    }\n</style>\n<table border=\"1\" class=\"dataframe\">\n  <thead>\n    <tr style=\"text-align: right;\">\n      <th></th>\n      <th>date</th>\n      <th>time</th>\n      <th>filename</th>\n      <th>foldername</th>\n      <th>channel</th>\n      <th>location</th>\n      <th>codec</th>\n    </tr>\n  </thead>\n  <tbody>\n    <tr>\n      <th>0</th>\n      <td>2022-02-02</td>\n      <td>11-31-48</td>\n      <td>tmplist5_pt_sportv1hevc_without_vpn_2u9q3bq1f9...</td>\n      <td>tmplist5_sporttv1_pt_hevc</td>\n      <td>sporttv1</td>\n      <td>pt</td>\n      <td>hevc</td>\n    </tr>\n    <tr>\n      <th>1</th>\n      <td>2022-02-02</td>\n      <td>11-41-38</td>\n      <td>tmplist5_pt_sportv1hevc_without_vpn_3x4712uxky...</td>\n      <td>tmplist5_sporttv1_pt_hevc</td>\n      <td>sporttv1</td>\n      <td>pt</td>\n      <td>hevc</td>\n    </tr>\n    <tr>\n      <th>2</th>\n      <td>2022-02-02</td>\n      <td>14-27-14</td>\n      <td>tmplist5_pt_sportv1hevc_without_vpn_5fu61xjunp...</td>\n      <td>tmplist5_sporttv1_pt_hevc</td>\n      <td>sporttv1</td>\n      <td>pt</td>\n      <td>hevc</td>\n    </tr>\n    <tr>\n      <th>3</th>\n      <td>2022-02-02</td>\n      <td>13-31-39</td>\n      <td>tmplist5_pt_sportv1hevc_without_vpn_5qjsk2qnp8...</td>\n      <td>tmplist5_sporttv1_pt_hevc</td>\n      <td>sporttv1</td>\n      <td>pt</td>\n      <td>hevc</td>\n    </tr>\n    <tr>\n      <th>4</th>\n      <td>2022-02-02</td>\n      <td>14-21-32</td>\n      <td>tmplist5_pt_sportv1hevc_without_vpn_5vmdwnyjsn...</td>\n      <td>tmplist5_sporttv1_pt_hevc</td>\n      <td>sporttv1</td>\n      <td>pt</td>\n      <td>hevc</td>\n    </tr>\n    <tr>\n      <th>5</th>\n      <td>2022-02-02</td>\n      <td>13-22-5</td>\n      <td>tmplist5_pt_sportv1hevc_without_vpn_6jbfwjhqve...</td>\n      <td>tmplist5_sporttv1_pt_hevc</td>\n      <td>sporttv1</td>\n      <td>pt</td>\n      <td>hevc</td>\n    </tr>\n    <tr>\n      <th>6</th>\n      <td>2022-02-02</td>\n      <td>12-31-13</td>\n      <td>tmplist5_pt_sportv1hevc_without_vpn_6sbtpbtsps...</td>\n      <td>tmplist5_sporttv1_pt_hevc</td>\n      <td>sporttv1</td>\n      <td>pt</td>\n      <td>hevc</td>\n    </tr>\n    <tr>\n      <th>7</th>\n      <td>2022-02-02</td>\n      <td>13-12-9</td>\n      <td>tmplist5_pt_sportv1hevc_without_vpn_8hek8jzdrq...</td>\n      <td>tmplist5_sporttv1_pt_hevc</td>\n      <td>sporttv1</td>\n      <td>pt</td>\n      <td>hevc</td>\n    </tr>\n    <tr>\n      <th>8</th>\n      <td>2022-02-02</td>\n      <td>12-22-1</td>\n      <td>tmplist5_pt_sportv1hevc_without_vpn_cwzru2prm4...</td>\n      <td>tmplist5_sporttv1_pt_hevc</td>\n      <td>sporttv1</td>\n      <td>pt</td>\n      <td>hevc</td>\n    </tr>\n    <tr>\n      <th>9</th>\n      <td>2022-02-02</td>\n      <td>12-11-50</td>\n      <td>tmplist5_pt_sportv1hevc_without_vpn_dkbxjes8cm...</td>\n      <td>tmplist5_sporttv1_pt_hevc</td>\n      <td>sporttv1</td>\n      <td>pt</td>\n      <td>hevc</td>\n    </tr>\n  </tbody>\n</table>\n</div>"
     },
     "execution_count": 14,
     "metadata": {},
     "output_type": "execute_result"
    }
   ],
   "source": [
    "folder = \"/IPTV_Datasets_28Jan/\"\n",
    "subfolders = [ f.path for f in os.scandir(folder) if f.is_dir() if not f.name.startswith(\".\")]\n",
    "\n",
    "print(subfolders)\n",
    "\n",
    "lst_date_time = []\n",
    "for sb_folder in subfolders:\n",
    "    os.chdir(sb_folder)\n",
    "    all_filenames = [i for i in glob.glob('*.{}'.format(\"csv\"))]\n",
    "    folder_name = sb_folder.split(\"/\")[-1]\n",
    "    channel = folder_name.split(\"_\")[1]\n",
    "    location = folder_name.split(\"_\")[2]\n",
    "    codec = folder_name.split(\"_\")[3]\n",
    "    for file_name in all_filenames:\n",
    "        date_time = file_name.split(\".\")[0]\n",
    "        date = date_time.split(\"_\")[-2]\n",
    "        time = date_time.split(\"_\")[-1]\n",
    "        lst_date_time.append([date, time, file_name, folder_name, channel, location, codec])\n",
    "\n",
    "df_time_file = pd.DataFrame(sorted(lst_date_time, key=itemgetter(0)), columns=[\"date\",\"time\", \"filename\",\"foldername\", \"channel\", \"location\", \"codec\"])\n",
    "df_time_file.to_csv(folder + \"match_files_sorted\" + \".csv\", index=False, header=True)\n",
    "df_time_file.head(10)"
   ],
   "metadata": {
    "collapsed": false,
    "pycharm": {
     "name": "#%%\n"
    }
   }
  },
  {
   "cell_type": "code",
   "execution_count": 16,
   "outputs": [
    {
     "name": "stdout",
     "output_type": "stream",
     "text": [
      "tmplist5_pt_sportv1hevc_without_vpn_2u9q3bq1f9vgq4iegu2y3_2022-02-02_11-31-48.csv\n",
      "tmplist5_pt_sportv1hevc_without_vpn_3x4712uxkyfunmg3n9bfa_2022-02-02_11-41-38.csv\n",
      "tmplist5_pt_sportv1hevc_without_vpn_5fu61xjunpkpjac75erj8_2022-02-02_14-27-14.csv\n",
      "tmplist5_pt_sportv1hevc_without_vpn_e8uv6dk47arsphnxzuykg_2022-02-02_14-51-57.csv\n",
      "tmplist5_pt_sportv1hevc_without_vpn_uefkqk2ynemtsht2i4thb_2022-02-02_15-1-7.csv\n",
      "272\n"
     ]
    }
   ],
   "source": [
    "# Group by time\n",
    "group_number = 0\n",
    "result_group = []\n",
    "df_time_file['flag'] = ''\n",
    "df_time_file.head()\n",
    "\n",
    "#criar empty column\n",
    "max_search_value = float(7 * 60)\n",
    "for idx in range(df_time_file.shape[0]):\n",
    "    if df_time_file[\"flag\"].get(idx) == '':\n",
    "        print(df_time_file[\"filename\"].get(idx))\n",
    "        initial_time = datetime.datetime.strptime(df_time_file[\"time\"].get(idx), \"%H-%M-%S\")\n",
    "        result_group.append(group_number)\n",
    "        df_time_file.loc[idx, 'flag'] = group_number\n",
    "        for idx2 in range(df_time_file.shape[0]):\n",
    "            actual_time = datetime.datetime.strptime(df_time_file[\"time\"].get(idx2), \"%H-%M-%S\")\n",
    "            time_diff = (actual_time - initial_time).total_seconds()\n",
    "            if (time_diff < max_search_value\n",
    "                    and df_time_file[\"filename\"].get(idx2) != df_time_file[\"time\"].get(idx)\n",
    "                    and df_time_file[\"flag\"].get(idx2) == ''):\n",
    "                df_time_file.loc[idx2, 'flag'] = group_number\n",
    "                #input the group value\n",
    "                result_group.append(group_number)\n",
    "        group_number = group_number + 1\n",
    "print(len(result_group))"
   ],
   "metadata": {
    "collapsed": false,
    "pycharm": {
     "name": "#%%\n"
    }
   }
  }
 ],
 "metadata": {
  "kernelspec": {
   "name": "pycharm-4168718a",
   "language": "python",
   "display_name": "PyCharm (aidaProject)"
  },
  "language_info": {
   "codemirror_mode": {
    "name": "ipython",
    "version": 2
   },
   "file_extension": ".py",
   "mimetype": "text/x-python",
   "name": "python",
   "nbconvert_exporter": "python",
   "pygments_lexer": "ipython2",
   "version": "2.7.6"
  }
 },
 "nbformat": 4,
 "nbformat_minor": 0
}